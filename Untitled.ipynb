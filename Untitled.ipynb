{
 "cells": [
  {
   "cell_type": "code",
   "execution_count": 5,
   "id": "37a602d4",
   "metadata": {},
   "outputs": [],
   "source": [
    "%matplotlib inline\n",
    "import matplotlib.pyplot as plt\n",
    "import numpy as np"
   ]
  },
  {
   "cell_type": "code",
   "execution_count": 4,
   "id": "fd3e4677",
   "metadata": {},
   "outputs": [
    {
     "data": {
      "text/plain": [
       "array([[ 0.9539645 ,  1.24698889,  0.95846335, ..., -0.18033746,\n",
       "        -0.98551665,  0.10908044],\n",
       "       [ 1.91230476, -1.46837936,  1.46754504, ...,  0.02131118,\n",
       "         0.52318527, -0.73872287],\n",
       "       [ 0.90668962,  0.58844378,  0.88173429, ..., -1.03371862,\n",
       "        -1.74514373,  0.99828216],\n",
       "       ...,\n",
       "       [ 0.33579842, -1.14832388, -1.15807431, ...,  0.93907362,\n",
       "         0.23975931,  0.54997541],\n",
       "       [-0.21718642, -1.17078756,  0.43098672, ...,  0.14612052,\n",
       "        -1.04756416, -0.20416954],\n",
       "       [-0.9019149 , -1.18443299,  1.0930294 , ...,  0.39610088,\n",
       "         0.98494319, -0.61866684]])"
      ]
     },
     "execution_count": 4,
     "metadata": {},
     "output_type": "execute_result"
    }
   ],
   "source": [
    "x = np.random.randn(10000, 5000)\n",
    "x"
   ]
  },
  {
   "cell_type": "code",
   "execution_count": 13,
   "id": "89d413d8",
   "metadata": {},
   "outputs": [
    {
     "data": {
      "text/plain": [
       "0.15870302"
      ]
     },
     "execution_count": 13,
     "metadata": {},
     "output_type": "execute_result"
    }
   ],
   "source": [
    "stuff =  np.count_nonzero(x <=-1)\n",
    "stuff / 50000000"
   ]
  },
  {
   "cell_type": "code",
   "execution_count": 15,
   "id": "cddf62cc",
   "metadata": {},
   "outputs": [
    {
     "data": {
      "text/plain": [
       "0.68255496"
      ]
     },
     "execution_count": 15,
     "metadata": {},
     "output_type": "execute_result"
    }
   ],
   "source": [
    "ss =  np.count_nonzero(x <=1)\n",
    "(ss-stuff) / 50000000"
   ]
  },
  {
   "cell_type": "code",
   "execution_count": null,
   "id": "9a57baf1",
   "metadata": {},
   "outputs": [],
   "source": [
    "yes"
   ]
  }
 ],
 "metadata": {
  "kernelspec": {
   "display_name": "Python 3 (ipykernel)",
   "language": "python",
   "name": "python3"
  },
  "language_info": {
   "codemirror_mode": {
    "name": "ipython",
    "version": 3
   },
   "file_extension": ".py",
   "mimetype": "text/x-python",
   "name": "python",
   "nbconvert_exporter": "python",
   "pygments_lexer": "ipython3",
   "version": "3.11.5"
  }
 },
 "nbformat": 4,
 "nbformat_minor": 5
}
