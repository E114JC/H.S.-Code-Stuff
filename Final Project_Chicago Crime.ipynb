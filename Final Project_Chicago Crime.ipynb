{
 "cells": [
  {
   "cell_type": "markdown",
   "id": "9e55149a",
   "metadata": {},
   "source": [
    "# Chicago Crime Annaylsis "
   ]
  },
  {
   "cell_type": "code",
   "execution_count": 1,
   "id": "3737373a",
   "metadata": {},
   "outputs": [],
   "source": [
    "import pandas as pd\n",
    "import seaborn as sns\n",
    "%matplotlib inline\n",
    "import matplotlib.pyplot as plt\n",
    "plt.style.use('ggplot')\n",
    "df = pd.read_csv('./data/Crimes_-_2001_to_Present_20240528.csv', sep=',')"
   ]
  },
  {
   "cell_type": "markdown",
   "id": "c50e931a",
   "metadata": {},
   "source": [
    "# Overview of Dataset"
   ]
  },
  {
   "cell_type": "code",
   "execution_count": 2,
   "id": "060b4583",
   "metadata": {
    "scrolled": true
   },
   "outputs": [
    {
     "data": {
      "text/html": [
       "<div>\n",
       "<style scoped>\n",
       "    .dataframe tbody tr th:only-of-type {\n",
       "        vertical-align: middle;\n",
       "    }\n",
       "\n",
       "    .dataframe tbody tr th {\n",
       "        vertical-align: top;\n",
       "    }\n",
       "\n",
       "    .dataframe thead th {\n",
       "        text-align: right;\n",
       "    }\n",
       "</style>\n",
       "<table border=\"1\" class=\"dataframe\">\n",
       "  <thead>\n",
       "    <tr style=\"text-align: right;\">\n",
       "      <th></th>\n",
       "      <th>ID</th>\n",
       "      <th>Case Number</th>\n",
       "      <th>Date</th>\n",
       "      <th>Block</th>\n",
       "      <th>IUCR</th>\n",
       "      <th>Primary Type</th>\n",
       "      <th>Description</th>\n",
       "      <th>Location Description</th>\n",
       "      <th>Arrest</th>\n",
       "      <th>Domestic</th>\n",
       "      <th>...</th>\n",
       "      <th>Ward</th>\n",
       "      <th>Community Area</th>\n",
       "      <th>FBI Code</th>\n",
       "      <th>X Coordinate</th>\n",
       "      <th>Y Coordinate</th>\n",
       "      <th>Year</th>\n",
       "      <th>Updated On</th>\n",
       "      <th>Latitude</th>\n",
       "      <th>Longitude</th>\n",
       "      <th>Location</th>\n",
       "    </tr>\n",
       "  </thead>\n",
       "  <tbody>\n",
       "    <tr>\n",
       "      <th>0</th>\n",
       "      <td>5741943</td>\n",
       "      <td>HN549294</td>\n",
       "      <td>08/25/2007 09:22:18 AM</td>\n",
       "      <td>074XX N ROGERS AVE</td>\n",
       "      <td>0560</td>\n",
       "      <td>ASSAULT</td>\n",
       "      <td>SIMPLE</td>\n",
       "      <td>OTHER</td>\n",
       "      <td>False</td>\n",
       "      <td>False</td>\n",
       "      <td>...</td>\n",
       "      <td>49.0</td>\n",
       "      <td>1.0</td>\n",
       "      <td>08A</td>\n",
       "      <td>NaN</td>\n",
       "      <td>NaN</td>\n",
       "      <td>2007</td>\n",
       "      <td>08/17/2015 03:03:40 PM</td>\n",
       "      <td>NaN</td>\n",
       "      <td>NaN</td>\n",
       "      <td>NaN</td>\n",
       "    </tr>\n",
       "    <tr>\n",
       "      <th>1</th>\n",
       "      <td>25953</td>\n",
       "      <td>JE240540</td>\n",
       "      <td>05/24/2021 03:06:00 PM</td>\n",
       "      <td>020XX N LARAMIE AVE</td>\n",
       "      <td>0110</td>\n",
       "      <td>HOMICIDE</td>\n",
       "      <td>FIRST DEGREE MURDER</td>\n",
       "      <td>STREET</td>\n",
       "      <td>True</td>\n",
       "      <td>False</td>\n",
       "      <td>...</td>\n",
       "      <td>36.0</td>\n",
       "      <td>19.0</td>\n",
       "      <td>01A</td>\n",
       "      <td>1141387.0</td>\n",
       "      <td>1913179.0</td>\n",
       "      <td>2021</td>\n",
       "      <td>11/18/2023 03:39:49 PM</td>\n",
       "      <td>41.917838</td>\n",
       "      <td>-87.755969</td>\n",
       "      <td>(41.917838056, -87.755968972)</td>\n",
       "    </tr>\n",
       "    <tr>\n",
       "      <th>2</th>\n",
       "      <td>26038</td>\n",
       "      <td>JE279849</td>\n",
       "      <td>06/26/2021 09:24:00 AM</td>\n",
       "      <td>062XX N MC CORMICK RD</td>\n",
       "      <td>0110</td>\n",
       "      <td>HOMICIDE</td>\n",
       "      <td>FIRST DEGREE MURDER</td>\n",
       "      <td>PARKING LOT</td>\n",
       "      <td>True</td>\n",
       "      <td>False</td>\n",
       "      <td>...</td>\n",
       "      <td>50.0</td>\n",
       "      <td>13.0</td>\n",
       "      <td>01A</td>\n",
       "      <td>1152781.0</td>\n",
       "      <td>1941458.0</td>\n",
       "      <td>2021</td>\n",
       "      <td>11/18/2023 03:39:49 PM</td>\n",
       "      <td>41.995219</td>\n",
       "      <td>-87.713355</td>\n",
       "      <td>(41.995219444, -87.713354912)</td>\n",
       "    </tr>\n",
       "    <tr>\n",
       "      <th>3</th>\n",
       "      <td>13279676</td>\n",
       "      <td>JG507211</td>\n",
       "      <td>11/09/2023 07:30:00 AM</td>\n",
       "      <td>019XX W BYRON ST</td>\n",
       "      <td>0620</td>\n",
       "      <td>BURGLARY</td>\n",
       "      <td>UNLAWFUL ENTRY</td>\n",
       "      <td>APARTMENT</td>\n",
       "      <td>False</td>\n",
       "      <td>False</td>\n",
       "      <td>...</td>\n",
       "      <td>47.0</td>\n",
       "      <td>5.0</td>\n",
       "      <td>05</td>\n",
       "      <td>1162518.0</td>\n",
       "      <td>1925906.0</td>\n",
       "      <td>2023</td>\n",
       "      <td>11/18/2023 03:39:49 PM</td>\n",
       "      <td>41.952345</td>\n",
       "      <td>-87.677975</td>\n",
       "      <td>(41.952345086, -87.677975059)</td>\n",
       "    </tr>\n",
       "    <tr>\n",
       "      <th>4</th>\n",
       "      <td>13274752</td>\n",
       "      <td>JG501049</td>\n",
       "      <td>11/12/2023 07:59:00 AM</td>\n",
       "      <td>086XX S COTTAGE GROVE AVE</td>\n",
       "      <td>0454</td>\n",
       "      <td>BATTERY</td>\n",
       "      <td>AGGRAVATED P.O. - HANDS, FISTS, FEET, NO / MIN...</td>\n",
       "      <td>SMALL RETAIL STORE</td>\n",
       "      <td>True</td>\n",
       "      <td>False</td>\n",
       "      <td>...</td>\n",
       "      <td>6.0</td>\n",
       "      <td>44.0</td>\n",
       "      <td>08B</td>\n",
       "      <td>1183071.0</td>\n",
       "      <td>1847869.0</td>\n",
       "      <td>2023</td>\n",
       "      <td>12/09/2023 03:41:24 PM</td>\n",
       "      <td>41.737751</td>\n",
       "      <td>-87.604856</td>\n",
       "      <td>(41.737750767, -87.604855911)</td>\n",
       "    </tr>\n",
       "  </tbody>\n",
       "</table>\n",
       "<p>5 rows × 22 columns</p>\n",
       "</div>"
      ],
      "text/plain": [
       "         ID Case Number                    Date                      Block  \\\n",
       "0   5741943    HN549294  08/25/2007 09:22:18 AM         074XX N ROGERS AVE   \n",
       "1     25953    JE240540  05/24/2021 03:06:00 PM        020XX N LARAMIE AVE   \n",
       "2     26038    JE279849  06/26/2021 09:24:00 AM      062XX N MC CORMICK RD   \n",
       "3  13279676    JG507211  11/09/2023 07:30:00 AM           019XX W BYRON ST   \n",
       "4  13274752    JG501049  11/12/2023 07:59:00 AM  086XX S COTTAGE GROVE AVE   \n",
       "\n",
       "   IUCR Primary Type                                        Description  \\\n",
       "0  0560      ASSAULT                                             SIMPLE   \n",
       "1  0110     HOMICIDE                                FIRST DEGREE MURDER   \n",
       "2  0110     HOMICIDE                                FIRST DEGREE MURDER   \n",
       "3  0620     BURGLARY                                     UNLAWFUL ENTRY   \n",
       "4  0454      BATTERY  AGGRAVATED P.O. - HANDS, FISTS, FEET, NO / MIN...   \n",
       "\n",
       "  Location Description  Arrest  Domestic  ...  Ward  Community Area  FBI Code  \\\n",
       "0                OTHER   False     False  ...  49.0             1.0       08A   \n",
       "1               STREET    True     False  ...  36.0            19.0       01A   \n",
       "2          PARKING LOT    True     False  ...  50.0            13.0       01A   \n",
       "3            APARTMENT   False     False  ...  47.0             5.0        05   \n",
       "4   SMALL RETAIL STORE    True     False  ...   6.0            44.0       08B   \n",
       "\n",
       "   X Coordinate Y Coordinate  Year              Updated On   Latitude  \\\n",
       "0           NaN          NaN  2007  08/17/2015 03:03:40 PM        NaN   \n",
       "1     1141387.0    1913179.0  2021  11/18/2023 03:39:49 PM  41.917838   \n",
       "2     1152781.0    1941458.0  2021  11/18/2023 03:39:49 PM  41.995219   \n",
       "3     1162518.0    1925906.0  2023  11/18/2023 03:39:49 PM  41.952345   \n",
       "4     1183071.0    1847869.0  2023  12/09/2023 03:41:24 PM  41.737751   \n",
       "\n",
       "   Longitude                       Location  \n",
       "0        NaN                            NaN  \n",
       "1 -87.755969  (41.917838056, -87.755968972)  \n",
       "2 -87.713355  (41.995219444, -87.713354912)  \n",
       "3 -87.677975  (41.952345086, -87.677975059)  \n",
       "4 -87.604856  (41.737750767, -87.604855911)  \n",
       "\n",
       "[5 rows x 22 columns]"
      ]
     },
     "execution_count": 2,
     "metadata": {},
     "output_type": "execute_result"
    }
   ],
   "source": [
    "df.head()"
   ]
  },
  {
   "cell_type": "code",
   "execution_count": 3,
   "id": "85717932",
   "metadata": {},
   "outputs": [
    {
     "data": {
      "text/html": [
       "<div>\n",
       "<style scoped>\n",
       "    .dataframe tbody tr th:only-of-type {\n",
       "        vertical-align: middle;\n",
       "    }\n",
       "\n",
       "    .dataframe tbody tr th {\n",
       "        vertical-align: top;\n",
       "    }\n",
       "\n",
       "    .dataframe thead th {\n",
       "        text-align: right;\n",
       "    }\n",
       "</style>\n",
       "<table border=\"1\" class=\"dataframe\">\n",
       "  <thead>\n",
       "    <tr style=\"text-align: right;\">\n",
       "      <th></th>\n",
       "      <th>ID</th>\n",
       "      <th>Case Number</th>\n",
       "      <th>Date</th>\n",
       "      <th>Block</th>\n",
       "      <th>IUCR</th>\n",
       "      <th>Primary Type</th>\n",
       "      <th>Description</th>\n",
       "      <th>Location Description</th>\n",
       "      <th>Arrest</th>\n",
       "      <th>Domestic</th>\n",
       "      <th>...</th>\n",
       "      <th>Ward</th>\n",
       "      <th>Community Area</th>\n",
       "      <th>FBI Code</th>\n",
       "      <th>X Coordinate</th>\n",
       "      <th>Y Coordinate</th>\n",
       "      <th>Year</th>\n",
       "      <th>Updated On</th>\n",
       "      <th>Latitude</th>\n",
       "      <th>Longitude</th>\n",
       "      <th>Location</th>\n",
       "    </tr>\n",
       "  </thead>\n",
       "  <tbody>\n",
       "    <tr>\n",
       "      <th>8069316</th>\n",
       "      <td>13047495</td>\n",
       "      <td>JG229914</td>\n",
       "      <td>04/18/2023 08:00:00 AM</td>\n",
       "      <td>003XX N JEFFERSON ST</td>\n",
       "      <td>1154</td>\n",
       "      <td>DECEPTIVE PRACTICE</td>\n",
       "      <td>FINANCIAL IDENTITY THEFT $300 AND UNDER</td>\n",
       "      <td>APARTMENT</td>\n",
       "      <td>False</td>\n",
       "      <td>False</td>\n",
       "      <td>...</td>\n",
       "      <td>42.0</td>\n",
       "      <td>28.0</td>\n",
       "      <td>11</td>\n",
       "      <td>1172269.0</td>\n",
       "      <td>1902384.0</td>\n",
       "      <td>2023</td>\n",
       "      <td>08/19/2023 03:40:26 PM</td>\n",
       "      <td>41.887589</td>\n",
       "      <td>-87.642827</td>\n",
       "      <td>(41.887589411, -87.642826595)</td>\n",
       "    </tr>\n",
       "    <tr>\n",
       "      <th>8069317</th>\n",
       "      <td>13168300</td>\n",
       "      <td>JG373901</td>\n",
       "      <td>08/07/2023 06:00:00 PM</td>\n",
       "      <td>0000X W 95TH ST</td>\n",
       "      <td>031A</td>\n",
       "      <td>ROBBERY</td>\n",
       "      <td>ARMED - HANDGUN</td>\n",
       "      <td>SIDEWALK</td>\n",
       "      <td>False</td>\n",
       "      <td>False</td>\n",
       "      <td>...</td>\n",
       "      <td>9.0</td>\n",
       "      <td>49.0</td>\n",
       "      <td>03</td>\n",
       "      <td>1177527.0</td>\n",
       "      <td>1841973.0</td>\n",
       "      <td>2023</td>\n",
       "      <td>08/19/2023 03:40:26 PM</td>\n",
       "      <td>41.721698</td>\n",
       "      <td>-87.625345</td>\n",
       "      <td>(41.72169837, -87.625345212)</td>\n",
       "    </tr>\n",
       "    <tr>\n",
       "      <th>8069318</th>\n",
       "      <td>13114024</td>\n",
       "      <td>JG309527</td>\n",
       "      <td>06/20/2023 07:00:00 PM</td>\n",
       "      <td>031XX S AVERS AVE</td>\n",
       "      <td>0910</td>\n",
       "      <td>MOTOR VEHICLE THEFT</td>\n",
       "      <td>AUTOMOBILE</td>\n",
       "      <td>STREET</td>\n",
       "      <td>False</td>\n",
       "      <td>False</td>\n",
       "      <td>...</td>\n",
       "      <td>22.0</td>\n",
       "      <td>30.0</td>\n",
       "      <td>07</td>\n",
       "      <td>1151205.0</td>\n",
       "      <td>1883542.0</td>\n",
       "      <td>2023</td>\n",
       "      <td>08/19/2023 03:40:26 PM</td>\n",
       "      <td>41.836324</td>\n",
       "      <td>-87.720674</td>\n",
       "      <td>(41.836323827, -87.720674149)</td>\n",
       "    </tr>\n",
       "    <tr>\n",
       "      <th>8069319</th>\n",
       "      <td>13188860</td>\n",
       "      <td>JG398340</td>\n",
       "      <td>08/26/2023 12:00:00 AM</td>\n",
       "      <td>078XX S SOUTH SHORE DR</td>\n",
       "      <td>1320</td>\n",
       "      <td>CRIMINAL DAMAGE</td>\n",
       "      <td>TO VEHICLE</td>\n",
       "      <td>STREET</td>\n",
       "      <td>False</td>\n",
       "      <td>False</td>\n",
       "      <td>...</td>\n",
       "      <td>7.0</td>\n",
       "      <td>46.0</td>\n",
       "      <td>14</td>\n",
       "      <td>1198338.0</td>\n",
       "      <td>1853426.0</td>\n",
       "      <td>2023</td>\n",
       "      <td>09/02/2023 03:41:45 PM</td>\n",
       "      <td>41.752631</td>\n",
       "      <td>-87.548737</td>\n",
       "      <td>(41.752631346, -87.548737069)</td>\n",
       "    </tr>\n",
       "    <tr>\n",
       "      <th>8069320</th>\n",
       "      <td>13126372</td>\n",
       "      <td>JG324067</td>\n",
       "      <td>07/01/2023 07:29:00 PM</td>\n",
       "      <td>005XX S WELLS ST</td>\n",
       "      <td>1320</td>\n",
       "      <td>CRIMINAL DAMAGE</td>\n",
       "      <td>TO VEHICLE</td>\n",
       "      <td>STREET</td>\n",
       "      <td>False</td>\n",
       "      <td>True</td>\n",
       "      <td>...</td>\n",
       "      <td>34.0</td>\n",
       "      <td>32.0</td>\n",
       "      <td>14</td>\n",
       "      <td>1174805.0</td>\n",
       "      <td>1897873.0</td>\n",
       "      <td>2023</td>\n",
       "      <td>08/19/2023 03:40:26 PM</td>\n",
       "      <td>41.875155</td>\n",
       "      <td>-87.633649</td>\n",
       "      <td>(41.87515458, -87.633648765)</td>\n",
       "    </tr>\n",
       "  </tbody>\n",
       "</table>\n",
       "<p>5 rows × 22 columns</p>\n",
       "</div>"
      ],
      "text/plain": [
       "               ID Case Number                    Date                   Block  \\\n",
       "8069316  13047495    JG229914  04/18/2023 08:00:00 AM    003XX N JEFFERSON ST   \n",
       "8069317  13168300    JG373901  08/07/2023 06:00:00 PM         0000X W 95TH ST   \n",
       "8069318  13114024    JG309527  06/20/2023 07:00:00 PM       031XX S AVERS AVE   \n",
       "8069319  13188860    JG398340  08/26/2023 12:00:00 AM  078XX S SOUTH SHORE DR   \n",
       "8069320  13126372    JG324067  07/01/2023 07:29:00 PM        005XX S WELLS ST   \n",
       "\n",
       "         IUCR         Primary Type                              Description  \\\n",
       "8069316  1154   DECEPTIVE PRACTICE  FINANCIAL IDENTITY THEFT $300 AND UNDER   \n",
       "8069317  031A              ROBBERY                          ARMED - HANDGUN   \n",
       "8069318  0910  MOTOR VEHICLE THEFT                               AUTOMOBILE   \n",
       "8069319  1320      CRIMINAL DAMAGE                               TO VEHICLE   \n",
       "8069320  1320      CRIMINAL DAMAGE                               TO VEHICLE   \n",
       "\n",
       "        Location Description  Arrest  Domestic  ...  Ward  Community Area  \\\n",
       "8069316            APARTMENT   False     False  ...  42.0            28.0   \n",
       "8069317             SIDEWALK   False     False  ...   9.0            49.0   \n",
       "8069318               STREET   False     False  ...  22.0            30.0   \n",
       "8069319               STREET   False     False  ...   7.0            46.0   \n",
       "8069320               STREET   False      True  ...  34.0            32.0   \n",
       "\n",
       "         FBI Code  X Coordinate Y Coordinate  Year              Updated On  \\\n",
       "8069316        11     1172269.0    1902384.0  2023  08/19/2023 03:40:26 PM   \n",
       "8069317        03     1177527.0    1841973.0  2023  08/19/2023 03:40:26 PM   \n",
       "8069318        07     1151205.0    1883542.0  2023  08/19/2023 03:40:26 PM   \n",
       "8069319        14     1198338.0    1853426.0  2023  09/02/2023 03:41:45 PM   \n",
       "8069320        14     1174805.0    1897873.0  2023  08/19/2023 03:40:26 PM   \n",
       "\n",
       "          Latitude  Longitude                       Location  \n",
       "8069316  41.887589 -87.642827  (41.887589411, -87.642826595)  \n",
       "8069317  41.721698 -87.625345   (41.72169837, -87.625345212)  \n",
       "8069318  41.836324 -87.720674  (41.836323827, -87.720674149)  \n",
       "8069319  41.752631 -87.548737  (41.752631346, -87.548737069)  \n",
       "8069320  41.875155 -87.633649   (41.87515458, -87.633648765)  \n",
       "\n",
       "[5 rows x 22 columns]"
      ]
     },
     "execution_count": 3,
     "metadata": {},
     "output_type": "execute_result"
    }
   ],
   "source": [
    "df.tail()"
   ]
  },
  {
   "cell_type": "code",
   "execution_count": 4,
   "id": "53ca6de6",
   "metadata": {},
   "outputs": [
    {
     "data": {
      "text/plain": [
       "177525062"
      ]
     },
     "execution_count": 4,
     "metadata": {},
     "output_type": "execute_result"
    }
   ],
   "source": [
    "df.size"
   ]
  },
  {
   "cell_type": "code",
   "execution_count": 5,
   "id": "cc1d1748",
   "metadata": {},
   "outputs": [
    {
     "data": {
      "text/plain": [
       "(8069321, 22)"
      ]
     },
     "execution_count": 5,
     "metadata": {},
     "output_type": "execute_result"
    }
   ],
   "source": [
    "df.shape"
   ]
  },
  {
   "cell_type": "code",
   "execution_count": 6,
   "id": "a6b46b9c",
   "metadata": {},
   "outputs": [
    {
     "data": {
      "text/plain": [
       "Index(['ID', 'Case Number', 'Date', 'Block', 'IUCR', 'Primary Type',\n",
       "       'Description', 'Location Description', 'Arrest', 'Domestic', 'Beat',\n",
       "       'District', 'Ward', 'Community Area', 'FBI Code', 'X Coordinate',\n",
       "       'Y Coordinate', 'Year', 'Updated On', 'Latitude', 'Longitude',\n",
       "       'Location'],\n",
       "      dtype='object')"
      ]
     },
     "execution_count": 6,
     "metadata": {},
     "output_type": "execute_result"
    }
   ],
   "source": [
    "df.columns"
   ]
  },
  {
   "cell_type": "code",
   "execution_count": 7,
   "id": "878ec4ee",
   "metadata": {},
   "outputs": [],
   "source": [
    "df_filtered = df.copy()"
   ]
  },
  {
   "cell_type": "markdown",
   "id": "ca22c477",
   "metadata": {},
   "source": [
    "# Data Anaylsis"
   ]
  },
  {
   "cell_type": "code",
   "execution_count": 8,
   "id": "9ba5172b",
   "metadata": {},
   "outputs": [],
   "source": [
    "del df_filtered['IUCR']\n",
    "del df_filtered['X Coordinate']\n",
    "del df_filtered['Y Coordinate']\n",
    "del df_filtered['Updated On']\n",
    "del df_filtered['Block']"
   ]
  },
  {
   "cell_type": "markdown",
   "id": "9e81b176",
   "metadata": {},
   "source": [
    "I deleted IUCR because it is the reporting code and not useful for general people. The x and y coordinates are repetitive because the latitude and longitude is already given. Updated on is useless for data analysis and thee block is redacted so it does not really help with location."
   ]
  },
  {
   "cell_type": "code",
   "execution_count": 9,
   "id": "36fa20ca",
   "metadata": {},
   "outputs": [
    {
     "data": {
      "text/html": [
       "<div>\n",
       "<style scoped>\n",
       "    .dataframe tbody tr th:only-of-type {\n",
       "        vertical-align: middle;\n",
       "    }\n",
       "\n",
       "    .dataframe tbody tr th {\n",
       "        vertical-align: top;\n",
       "    }\n",
       "\n",
       "    .dataframe thead th {\n",
       "        text-align: right;\n",
       "    }\n",
       "</style>\n",
       "<table border=\"1\" class=\"dataframe\">\n",
       "  <thead>\n",
       "    <tr style=\"text-align: right;\">\n",
       "      <th></th>\n",
       "      <th>ID</th>\n",
       "      <th>Case Number</th>\n",
       "      <th>Date</th>\n",
       "      <th>Primary Type</th>\n",
       "      <th>Description</th>\n",
       "      <th>Location Description</th>\n",
       "      <th>Arrest</th>\n",
       "      <th>Domestic</th>\n",
       "      <th>Beat</th>\n",
       "      <th>District</th>\n",
       "      <th>Ward</th>\n",
       "      <th>Community Area</th>\n",
       "      <th>FBI Code</th>\n",
       "      <th>Year</th>\n",
       "      <th>Latitude</th>\n",
       "      <th>Longitude</th>\n",
       "      <th>Location</th>\n",
       "    </tr>\n",
       "  </thead>\n",
       "  <tbody>\n",
       "    <tr>\n",
       "      <th>0</th>\n",
       "      <td>5741943</td>\n",
       "      <td>HN549294</td>\n",
       "      <td>08/25/2007 09:22:18 AM</td>\n",
       "      <td>ASSAULT</td>\n",
       "      <td>SIMPLE</td>\n",
       "      <td>OTHER</td>\n",
       "      <td>False</td>\n",
       "      <td>False</td>\n",
       "      <td>2422</td>\n",
       "      <td>24.0</td>\n",
       "      <td>49.0</td>\n",
       "      <td>1.0</td>\n",
       "      <td>08A</td>\n",
       "      <td>2007</td>\n",
       "      <td>NaN</td>\n",
       "      <td>NaN</td>\n",
       "      <td>NaN</td>\n",
       "    </tr>\n",
       "    <tr>\n",
       "      <th>1</th>\n",
       "      <td>25953</td>\n",
       "      <td>JE240540</td>\n",
       "      <td>05/24/2021 03:06:00 PM</td>\n",
       "      <td>HOMICIDE</td>\n",
       "      <td>FIRST DEGREE MURDER</td>\n",
       "      <td>STREET</td>\n",
       "      <td>True</td>\n",
       "      <td>False</td>\n",
       "      <td>2515</td>\n",
       "      <td>25.0</td>\n",
       "      <td>36.0</td>\n",
       "      <td>19.0</td>\n",
       "      <td>01A</td>\n",
       "      <td>2021</td>\n",
       "      <td>41.917838</td>\n",
       "      <td>-87.755969</td>\n",
       "      <td>(41.917838056, -87.755968972)</td>\n",
       "    </tr>\n",
       "    <tr>\n",
       "      <th>2</th>\n",
       "      <td>26038</td>\n",
       "      <td>JE279849</td>\n",
       "      <td>06/26/2021 09:24:00 AM</td>\n",
       "      <td>HOMICIDE</td>\n",
       "      <td>FIRST DEGREE MURDER</td>\n",
       "      <td>PARKING LOT</td>\n",
       "      <td>True</td>\n",
       "      <td>False</td>\n",
       "      <td>1711</td>\n",
       "      <td>17.0</td>\n",
       "      <td>50.0</td>\n",
       "      <td>13.0</td>\n",
       "      <td>01A</td>\n",
       "      <td>2021</td>\n",
       "      <td>41.995219</td>\n",
       "      <td>-87.713355</td>\n",
       "      <td>(41.995219444, -87.713354912)</td>\n",
       "    </tr>\n",
       "    <tr>\n",
       "      <th>3</th>\n",
       "      <td>13279676</td>\n",
       "      <td>JG507211</td>\n",
       "      <td>11/09/2023 07:30:00 AM</td>\n",
       "      <td>BURGLARY</td>\n",
       "      <td>UNLAWFUL ENTRY</td>\n",
       "      <td>APARTMENT</td>\n",
       "      <td>False</td>\n",
       "      <td>False</td>\n",
       "      <td>1922</td>\n",
       "      <td>19.0</td>\n",
       "      <td>47.0</td>\n",
       "      <td>5.0</td>\n",
       "      <td>05</td>\n",
       "      <td>2023</td>\n",
       "      <td>41.952345</td>\n",
       "      <td>-87.677975</td>\n",
       "      <td>(41.952345086, -87.677975059)</td>\n",
       "    </tr>\n",
       "    <tr>\n",
       "      <th>4</th>\n",
       "      <td>13274752</td>\n",
       "      <td>JG501049</td>\n",
       "      <td>11/12/2023 07:59:00 AM</td>\n",
       "      <td>BATTERY</td>\n",
       "      <td>AGGRAVATED P.O. - HANDS, FISTS, FEET, NO / MIN...</td>\n",
       "      <td>SMALL RETAIL STORE</td>\n",
       "      <td>True</td>\n",
       "      <td>False</td>\n",
       "      <td>632</td>\n",
       "      <td>6.0</td>\n",
       "      <td>6.0</td>\n",
       "      <td>44.0</td>\n",
       "      <td>08B</td>\n",
       "      <td>2023</td>\n",
       "      <td>41.737751</td>\n",
       "      <td>-87.604856</td>\n",
       "      <td>(41.737750767, -87.604855911)</td>\n",
       "    </tr>\n",
       "  </tbody>\n",
       "</table>\n",
       "</div>"
      ],
      "text/plain": [
       "         ID Case Number                    Date Primary Type  \\\n",
       "0   5741943    HN549294  08/25/2007 09:22:18 AM      ASSAULT   \n",
       "1     25953    JE240540  05/24/2021 03:06:00 PM     HOMICIDE   \n",
       "2     26038    JE279849  06/26/2021 09:24:00 AM     HOMICIDE   \n",
       "3  13279676    JG507211  11/09/2023 07:30:00 AM     BURGLARY   \n",
       "4  13274752    JG501049  11/12/2023 07:59:00 AM      BATTERY   \n",
       "\n",
       "                                         Description Location Description  \\\n",
       "0                                             SIMPLE                OTHER   \n",
       "1                                FIRST DEGREE MURDER               STREET   \n",
       "2                                FIRST DEGREE MURDER          PARKING LOT   \n",
       "3                                     UNLAWFUL ENTRY            APARTMENT   \n",
       "4  AGGRAVATED P.O. - HANDS, FISTS, FEET, NO / MIN...   SMALL RETAIL STORE   \n",
       "\n",
       "   Arrest  Domestic  Beat  District  Ward  Community Area FBI Code  Year  \\\n",
       "0   False     False  2422      24.0  49.0             1.0      08A  2007   \n",
       "1    True     False  2515      25.0  36.0            19.0      01A  2021   \n",
       "2    True     False  1711      17.0  50.0            13.0      01A  2021   \n",
       "3   False     False  1922      19.0  47.0             5.0       05  2023   \n",
       "4    True     False   632       6.0   6.0            44.0      08B  2023   \n",
       "\n",
       "    Latitude  Longitude                       Location  \n",
       "0        NaN        NaN                            NaN  \n",
       "1  41.917838 -87.755969  (41.917838056, -87.755968972)  \n",
       "2  41.995219 -87.713355  (41.995219444, -87.713354912)  \n",
       "3  41.952345 -87.677975  (41.952345086, -87.677975059)  \n",
       "4  41.737751 -87.604856  (41.737750767, -87.604855911)  "
      ]
     },
     "execution_count": 9,
     "metadata": {},
     "output_type": "execute_result"
    }
   ],
   "source": [
    "df_filtered.head()"
   ]
  },
  {
   "cell_type": "code",
   "execution_count": 10,
   "id": "e6cc1c4b",
   "metadata": {},
   "outputs": [
    {
     "data": {
      "text/plain": [
       "Text(0, 0.5, 'Number of Crimes by the Millions')"
      ]
     },
     "execution_count": 10,
     "metadata": {},
     "output_type": "execute_result"
    },
    {
     "data": {
      "image/png": "[encoded data removed]",
      "text/plain": [
       "<Figure size 1500x1000 with 1 Axes>"
      ]
     },
     "metadata": {},
     "output_type": "display_data"
    }
   ],
   "source": [
    "plt.style.use('ggplot')\n",
    "g = df_filtered['Primary Type'].value_counts(sort=True)[:15].plot.bar(figsize=(15,10))\n",
    "plt.title('Fifteen Most Common Crimes in Chicago (2001-2024)')\n",
    "plt.xlabel('Crime Type')\n",
    "plt.ylabel('Number of Crimes by the Millions')"
   ]
  },
  {
   "cell_type": "markdown",
   "id": "f25421c1",
   "metadata": {},
   "source": [
    "This graph shows the fifteen most common crimes with the scale going by the millions. "
   ]
  },
  {
   "cell_type": "code",
   "execution_count": 11,
   "id": "2741ab24",
   "metadata": {},
   "outputs": [
    {
     "data": {
      "text/plain": [
       "Year\n",
       "2001    485912\n",
       "2002    486820\n",
       "2003    475989\n",
       "2004    469430\n",
       "2005    453779\n",
       "2006    448188\n",
       "2007    437089\n",
       "2008    427197\n",
       "2009    392841\n",
       "2010    370537\n",
       "2011    352008\n",
       "2012    336332\n",
       "2013    307561\n",
       "2014    275834\n",
       "2015    264841\n",
       "2016    269892\n",
       "2017    269172\n",
       "2018    269003\n",
       "2019    261468\n",
       "2020    212413\n",
       "2021    209219\n",
       "2022    239364\n",
       "2023    261834\n",
       "2024     92598\n",
       "Name: Primary Type, dtype: int64"
      ]
     },
     "execution_count": 11,
     "metadata": {},
     "output_type": "execute_result"
    }
   ],
   "source": [
    "df_filtered.groupby(['Year'])['Primary Type'].count()"
   ]
  },
  {
   "cell_type": "markdown",
   "id": "acfc7ac1",
   "metadata": {},
   "source": [
    "This groupby shows the number of crimes per year for the past 23 years. "
   ]
  },
  {
   "cell_type": "code",
   "execution_count": 12,
   "id": "69549362",
   "metadata": {},
   "outputs": [
    {
     "data": {
      "text/plain": [
       "Location Description  Primary Type                     \n",
       "ABANDONED BUILDING    NARCOTICS                            3013\n",
       "                      BURGLARY                             1961\n",
       "                      CRIMINAL TRESPASS                    1695\n",
       "                      THEFT                                1583\n",
       "                      CRIMINAL DAMAGE                      1129\n",
       "                                                           ... \n",
       "WAREHOUSE             CONCEALED CARRY LICENSE VIOLATION       1\n",
       "                      GAMBLING                                1\n",
       "WOODED AREA           HOMICIDE                                7\n",
       "YARD                  HOMICIDE                              311\n",
       "YMCA                  HOMICIDE                                3\n",
       "Name: count, Length: 3197, dtype: int64"
      ]
     },
     "execution_count": 12,
     "metadata": {},
     "output_type": "execute_result"
    }
   ],
   "source": [
    "df_filtered.groupby(['Location Description'])['Primary Type'].value_counts(sort=True)\n"
   ]
  },
  {
   "cell_type": "markdown",
   "id": "8c399dbd",
   "metadata": {},
   "source": [
    "This is the amount of different crimes committed in different types of locations."
   ]
  },
  {
   "cell_type": "code",
   "execution_count": 13,
   "id": "1fb31608",
   "metadata": {},
   "outputs": [
    {
     "data": {
      "text/plain": [
       "Arrest  Domestic\n",
       "False   False       4880093\n",
       "        True        1118493\n",
       "True    False       1801271\n",
       "        True         269464\n",
       "Name: count, dtype: int64"
      ]
     },
     "execution_count": 13,
     "metadata": {},
     "output_type": "execute_result"
    }
   ],
   "source": [
    "df_filtered.groupby(['Arrest'])['Domestic'].value_counts(sort=True)\n"
   ]
  },
  {
   "cell_type": "markdown",
   "id": "9bae7fd6",
   "metadata": {},
   "source": [
    "This is a breakdown of arrest amounts vs. domestic amounts."
   ]
  },
  {
   "cell_type": "code",
   "execution_count": 27,
   "id": "e9a354f5",
   "metadata": {},
   "outputs": [
    {
     "data": {
      "text/plain": [
       "Text(0, 0.5, 'Number of Crimes')"
      ]
     },
     "execution_count": 27,
     "metadata": {},
     "output_type": "execute_result"
    },
    {
     "data": {
      "image/png": "[encoded data removed]",
      "text/plain": [
       "<Figure size 1500x1000 with 1 Axes>"
      ]
     },
     "metadata": {},
     "output_type": "display_data"
    }
   ],
   "source": [
    "df_filtered.groupby(['Beat'])['Primary Type'].count()[:20].plot.bar(figsize=(15,10))\n",
    "plt.title('First Twenty Beats and their Amount of Crimes in Chicago (2001-2024)')\n",
    "plt.xlabel('Beat')\n",
    "plt.ylabel('Number of Crimes')"
   ]
  },
  {
   "cell_type": "markdown",
   "id": "1a654f18",
   "metadata": {},
   "source": [
    "This graph shows the first twenty beats or the path officers walk and ther amount of crimes that occur their. "
   ]
  }
 ],
 "metadata": {
  "kernelspec": {
   "display_name": "Python 3 (ipykernel)",
   "language": "python",
   "name": "python3"
  },
  "language_info": {
   "codemirror_mode": {
    "name": "ipython",
    "version": 3
   },
   "file_extension": ".py",
   "mimetype": "text/x-python",
   "name": "python",
   "nbconvert_exporter": "python",
   "pygments_lexer": "ipython3",
   "version": "3.9.18"
  }
 },
 "nbformat": 4,
 "nbformat_minor": 5
}
