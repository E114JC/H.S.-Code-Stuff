{
 "cells": [
  {
   "cell_type": "code",
   "execution_count": 6,
   "id": "33b00366",
   "metadata": {},
   "outputs": [
    {
     "name": "stdout",
     "output_type": "stream",
     "text": [
      "How much did you borrow: 96000\n",
      "What is the interest rate per year: 7\n",
      "How many years did you borrow for: 11\n",
      "You owe $137923.3270585947\n"
     ]
    }
   ],
   "source": [
    "#you use a hashtag\n",
    "#we have done ints, floats, booleens, and strings\n",
    "#java is more memory cognizent python's memory map is modular\n",
    "#python 2 print was not a function and did not need parenthesis\n",
    "#true\n",
    "#end=\n",
    "#python recomends adding spaces in between functions\n",
    "#the input is autimatically read as a string\n",
    "P = float(input('How much did you borrow: '))\n",
    "r = float(input('What is the interest rate per year: '))\n",
    "n = float(input('How many years did you borrow for: '))\n",
    "rr = r/1200\n",
    "nn = n*12\n",
    "A = ((P*rr)/(1-(1+rr)**-nn))*nn\n",
    "print('You owe $' +str(A))"
   ]
  },
  {
   "cell_type": "markdown",
   "id": "3b2fede6",
   "metadata": {},
   "source": [
    "# "
   ]
  }
 ],
 "metadata": {
  "kernelspec": {
   "display_name": "Python 3 (ipykernel)",
   "language": "python",
   "name": "python3"
  },
  "language_info": {
   "codemirror_mode": {
    "name": "ipython",
    "version": 3
   },
   "file_extension": ".py",
   "mimetype": "text/x-python",
   "name": "python",
   "nbconvert_exporter": "python",
   "pygments_lexer": "ipython3",
   "version": "3.11.5"
  }
 },
 "nbformat": 4,
 "nbformat_minor": 5
}
